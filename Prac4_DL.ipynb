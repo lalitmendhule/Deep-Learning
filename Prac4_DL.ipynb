{
  "nbformat": 4,
  "nbformat_minor": 0,
  "metadata": {
    "colab": {
      "provenance": [],
      "include_colab_link": true
    },
    "kernelspec": {
      "name": "python3",
      "display_name": "Python 3"
    },
    "language_info": {
      "name": "python"
    }
  },
  "cells": [
    {
      "cell_type": "markdown",
      "metadata": {
        "id": "view-in-github",
        "colab_type": "text"
      },
      "source": [
        "<a href=\"https://colab.research.google.com/github/lalitmendhule/Deep-Learning/blob/main/Prac4_DL.ipynb\" target=\"_parent\"><img src=\"https://colab.research.google.com/assets/colab-badge.svg\" alt=\"Open In Colab\"/></a>"
      ]
    },
    {
      "cell_type": "code",
      "execution_count": null,
      "metadata": {
        "colab": {
          "base_uri": "https://localhost:8080/"
        },
        "id": "fiYItAnXhE9L",
        "outputId": "dc729044-9deb-4f33-f17d-3f6a4273f062"
      },
      "outputs": [
        {
          "output_type": "stream",
          "name": "stdout",
          "text": [
            "Downloading data from https://storage.googleapis.com/tensorflow/tf-keras-datasets/mnist.npz\n",
            "\u001b[1m11490434/11490434\u001b[0m \u001b[32m━━━━━━━━━━━━━━━━━━━━\u001b[0m\u001b[37m\u001b[0m \u001b[1m0s\u001b[0m 0us/step\n"
          ]
        },
        {
          "output_type": "stream",
          "name": "stderr",
          "text": [
            "/usr/local/lib/python3.12/dist-packages/keras/src/layers/reshaping/flatten.py:37: UserWarning: Do not pass an `input_shape`/`input_dim` argument to a layer. When using Sequential models, prefer using an `Input(shape)` object as the first layer in the model instead.\n",
            "  super().__init__(**kwargs)\n"
          ]
        },
        {
          "output_type": "stream",
          "name": "stdout",
          "text": [
            "Epoch 1/5\n",
            "1688/1688 - 4s - 2ms/step - accuracy: 0.9279 - loss: 0.2449 - val_accuracy: 0.9667 - val_loss: 0.1139\n",
            "Epoch 2/5\n",
            "1688/1688 - 4s - 2ms/step - accuracy: 0.9683 - loss: 0.1036 - val_accuracy: 0.9742 - val_loss: 0.0830\n",
            "Epoch 3/5\n",
            "1688/1688 - 3s - 2ms/step - accuracy: 0.9775 - loss: 0.0711 - val_accuracy: 0.9738 - val_loss: 0.0875\n",
            "Epoch 4/5\n",
            "1688/1688 - 3s - 2ms/step - accuracy: 0.9826 - loss: 0.0560 - val_accuracy: 0.9778 - val_loss: 0.0790\n",
            "Epoch 5/5\n",
            "1688/1688 - 6s - 3ms/step - accuracy: 0.9865 - loss: 0.0433 - val_accuracy: 0.9785 - val_loss: 0.0801\n",
            "Test Accuracy: 0.9755\n"
          ]
        }
      ],
      "source": [
        "# Import libraries\n",
        "import tensorflow as tf\n",
        "from tensorflow.keras.datasets import mnist\n",
        "from tensorflow.keras.models import Sequential\n",
        "from tensorflow.keras.layers import Dense, Flatten\n",
        "from tensorflow.keras.utils import to_categorical\n",
        "\n",
        "# Load MNIST dataset\n",
        "(x_train, y_train), (x_test, y_test) = mnist.load_data()\n",
        "\n",
        "# Normalize data (scale pixel values between 0 and 1)\n",
        "x_train = x_train / 255.0\n",
        "x_test = x_test / 255.0\n",
        "\n",
        "# One-hot encode labels\n",
        "y_train = to_categorical(y_train, 10)\n",
        "y_test = to_categorical(y_test, 10)\n",
        "\n",
        "# Build Neural Network\n",
        "model = Sequential([\n",
        "    Flatten(input_shape=(28, 28)),       # Flatten 28x28 images\n",
        "    Dense(128, activation='relu'),       # Hidden layer with 128 neurons\n",
        "    Dense(64, activation='relu'),        # Hidden layer with 64 neurons\n",
        "    Dense(10, activation='softmax')      # Output layer (10 classes)\n",
        "])\n",
        "\n",
        "# Compile the model\n",
        "model.compile(optimizer='adam',\n",
        "              loss='categorical_crossentropy',\n",
        "              metrics=['accuracy'])\n",
        "\n",
        "# Train the model\n",
        "history = model.fit(x_train, y_train, epochs=5, batch_size=32, validation_split=0.1, verbose=2)\n",
        "\n",
        "# Evaluate on test data\n",
        "test_loss, test_acc = model.evaluate(x_test, y_test, verbose=0)\n",
        "print(f\"Test Accuracy: {test_acc:.4f}\")\n"
      ]
    }
  ]
}